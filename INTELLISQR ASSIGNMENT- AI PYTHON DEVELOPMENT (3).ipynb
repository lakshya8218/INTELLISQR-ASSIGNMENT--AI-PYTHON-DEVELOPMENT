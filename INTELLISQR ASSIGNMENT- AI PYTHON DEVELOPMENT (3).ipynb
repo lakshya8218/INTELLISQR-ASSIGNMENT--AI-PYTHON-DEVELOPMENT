{
 "cells": [
  {
   "cell_type": "code",
   "execution_count": null,
   "id": "5009ac0b-7a92-4c54-8e2b-d5f2e0b7e474",
   "metadata": {},
   "outputs": [],
   "source": [
    "# Import the speech_recognition library, commonly abbreviated as sr\n",
    "import speech_recognition as sr\n",
    "\n",
    "# Define a function to recognize speech given a recognizer (r) and audio source (source)\n",
    "def recognize_speech(r, source):\n",
    "    print(\"Talk\")  # Prompt the user to speak\n",
    "    r.adjust_for_ambient_noise(source, duration=0.5)  # Adjust for ambient noise for better recognition\n",
    "    audio_text = r.listen(source)  # Capture audio input\n",
    "    print(\"Time over\")  # Indicate the end of the listening period\n",
    "\n",
    "    try:\n",
    "        text = r.recognize_google(audio_text, language='en-IN')  # Use Google Speech Recognition to convert audio to text\n",
    "        print(\"Text:\", text)  # Print the recognized text\n",
    "    except sr.UnknownValueError:\n",
    "        print(\"Sorry, I couldn't understand the audio\")  # Handle case where speech recognition could not understand the audio\n",
    "    except sr.RequestError as e:\n",
    "        print(f\"Could not request results from Google Speech Recognition service; {e}\")  # Handle request error when communicating with Google's service\n",
    "\n",
    "# Define the main function\n",
    "def main():\n",
    "    recognizer = sr.Recognizer()  # Create a speech recognizer object\n",
    "    \n",
    "    choice = input(\"Choose an option (1: Microphone, 2: Upload Audio File): \")  # Prompt user for input choice\n",
    "\n",
    "    # Handle user choices\n",
    "    if choice == '1':\n",
    "        with sr.Microphone() as source:\n",
    "            recognize_speech(recognizer, source)  # Call the recognize_speech function for microphone input\n",
    "    elif choice == '2':\n",
    "        audio_file = input(\"Enter the Audio Wav File: \")\n",
    "        with sr.AudioFile(audio_file) as source:\n",
    "            recognize_speech(recognizer, source)  # Call the recognize_speech function for uploaded audio file\n",
    "    else:\n",
    "        print(\"Invalid choice. Please choose 1 or 2.\")  # Handle invalid user input\n",
    "\n",
    "# Execute the main function if the script is run directly\n",
    "if __name__ == \"__main__\":\n",
    "    main()\n"
   ]
  },
  {
   "cell_type": "code",
   "execution_count": null,
   "id": "132e4b1d-467f-4ba4-90d7-1f160b17de1a",
   "metadata": {},
   "outputs": [],
   "source": []
  }
 ],
 "metadata": {
  "kernelspec": {
   "display_name": "Python 3 (ipykernel)",
   "language": "python",
   "name": "python3"
  },
  "language_info": {
   "codemirror_mode": {
    "name": "ipython",
    "version": 3
   },
   "file_extension": ".py",
   "mimetype": "text/x-python",
   "name": "python",
   "nbconvert_exporter": "python",
   "pygments_lexer": "ipython3",
   "version": "3.11.5"
  }
 },
 "nbformat": 4,
 "nbformat_minor": 5
}
